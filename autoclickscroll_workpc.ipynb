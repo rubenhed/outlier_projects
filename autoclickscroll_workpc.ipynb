{
 "cells": [
  {
   "cell_type": "code",
   "execution_count": 6,
   "id": "3f57914f",
   "metadata": {},
   "outputs": [],
   "source": [
    "import pyautogui as pag\n",
    "import time\n",
    "\n",
    "def auto_scroll(scroll_amount=20, sleep_time=0.5):\n",
    "  for i in range(2):\n",
    "    pag.sleep(sleep_time)\n",
    "    pag.scroll(scroll_amount)\n",
    "    pag.sleep(sleep_time)\n",
    "    pag.click()\n",
    "    pag.sleep(sleep_time)\n",
    "    scroll_amount = -scroll_amount\n",
    "\n",
    "def submit_task():\n",
    "  pag.moveTo(1857, 125)\n",
    "  pag.sleep(0.5)\n",
    "  pag.click()\n"
   ]
  },
  {
   "cell_type": "code",
   "execution_count": null,
   "id": "07549781",
   "metadata": {},
   "outputs": [],
   "source": [
    "while True:\n",
    "  auto_scroll()"
   ]
  },
  {
   "cell_type": "code",
   "execution_count": null,
   "id": "1fbac5d2",
   "metadata": {},
   "outputs": [],
   "source": [
    "start_time = time.time()\n",
    "\n",
    "minutes = 150\n",
    "\n",
    "while True:\n",
    "  auto_scroll()\n",
    "  elapsed_time = time.time() - start_time\n",
    "  if elapsed_time > minutes * 60:\n",
    "    submit_task()\n",
    "    break\n",
    "  pag.sleep(1)\n"
   ]
  },
  {
   "cell_type": "code",
   "execution_count": 5,
   "id": "18f2cd52",
   "metadata": {},
   "outputs": [],
   "source": [
    "pag.moveTo(1857, 125)"
   ]
  }
 ],
 "metadata": {
  "kernelspec": {
   "display_name": "Python 3",
   "language": "python",
   "name": "python3"
  },
  "language_info": {
   "codemirror_mode": {
    "name": "ipython",
    "version": 3
   },
   "file_extension": ".py",
   "mimetype": "text/x-python",
   "name": "python",
   "nbconvert_exporter": "python",
   "pygments_lexer": "ipython3",
   "version": "3.12.6"
  }
 },
 "nbformat": 4,
 "nbformat_minor": 5
}
